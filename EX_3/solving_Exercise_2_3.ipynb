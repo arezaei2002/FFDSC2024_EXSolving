{
 "cells": [
  {
   "attachments": {},
   "cell_type": "markdown",
   "id": "1f6a8d7c",
   "metadata": {},
   "source": [
    "<div style=\" padding: 40px; text-align: center; color: #8e44ad;text-shadow: 2px 2px 0px #f1c40f; \">\n",
    "    <h1 style=\"font-family: 'Roboto', sans-serif;ext-align: center;  font-size: 72px; margin-top: 0; margin-bottom: 20px;\">\n",
    "    Exercise 3\n",
    "    </h1>\n",
    "</div>"
   ]
  },
  {
   "attachments": {},
   "cell_type": "markdown",
   "id": "37e1c49e",
   "metadata": {},
   "source": [
    "![ex2](images/ex3.png)"
   ]
  },
  {
   "cell_type": "code",
   "execution_count": 55,
   "id": "c498c686",
   "metadata": {},
   "outputs": [],
   "source": [
    "import numpy as np"
   ]
  },
  {
   "attachments": {},
   "cell_type": "markdown",
   "id": "00dfd155",
   "metadata": {},
   "source": [
    "<hr>\n",
    "<h5 style=\"text-align:center; color:red ; font-size: 20px;\">  🟢 Quick Sort 🟢 </h5>\n",
    "<p style=\"text-align:right; font-size: 20px;\">\n",
    " یک الگوریتم مرتب‌سازی بازگشتی است که از روش تقسیم و حل استفاده می‌کند. الگوریتم به گونه‌ای طراحی شده است که با استفاده از تابع پایوت، آرایه را به دو بخش تقسیم می‌کند: عناصری که از مقدار پایوت کوچکتر هستند و عناصری هستند که بزرگتر یا مساوی پایوت هستند. سپس هر بخش را به صورت بازگشتی مرتب می کند\n",
    "</p>\n",
    "\n"
   ]
  },
  {
   "cell_type": "markdown",
   "id": "3f0cbd89",
   "metadata": {},
   "source": [
    "<div style=\"text-align: center;\">\n",
    "    <div dir=\"rtl\">مزایا:</div>\n",
    "    <div dir=\"rtl\">کارآمدی بالا: در اکثر موارد، Quick Sort سریع‌تر از سایر الگوریتم‌های مرتب‌سازی است.</div>\n",
    "    <div dir=\"rtl\">حافظه کمتر: نیاز به فضای حافظه اضافی کمتری دارد.</div>\n",
    "    <div dir=\"rtl\">قابلیت تطبیق: خوب کار می‌کند حتی برای لیست‌های بزرگ.</div>\n",
    "    <br>  \n",
    "    <div dir=\"rtl\">معایب:</div>\n",
    "    <div dir=\"rtl\">حساسیت به انتخاب Pivot: اگر Pivot به خوبی انتخاب نشود، می‌تواند کارایی الگوریتم را کاهش دهد.</div>\n",
    "    <div dir=\"rtl\">ناپایداری: ممکن است ترتیب عناصر مساوی را حفظ نکند.</div>\n",
    "</div>"
   ]
  },
  {
   "attachments": {},
   "cell_type": "markdown",
   "id": "8c884707",
   "metadata": {},
   "source": [
    "![quick](images/sort1.png)"
   ]
  },
  {
   "cell_type": "code",
   "execution_count": 63,
   "id": "278d609f",
   "metadata": {},
   "outputs": [
    {
     "name": "stdout",
     "output_type": "stream",
     "text": [
      "1.08 µs ± 6.1 ns per loop (mean ± std. dev. of 7 runs, 1,000,000 loops each)\n"
     ]
    }
   ],
   "source": [
    "%%timeit\n",
    "not_sorted = np.array([6,6,2,4,5,1,0,10,9,14,25])\n",
    "np.sort(not_sorted , kind='quicksort')\n"
   ]
  },
  {
   "cell_type": "code",
   "execution_count": 65,
   "id": "422bad76",
   "metadata": {},
   "outputs": [],
   "source": [
    "def quick_sort(arr):\n",
    "    \"\"\"Quick sort algorithm implementation.\"\"\"\n",
    "    if len(arr) <= 1:\n",
    "        return arr\n",
    "    else:\n",
    "        pivot = arr[len(arr) // 2]\n",
    "        left = [x for x in arr if x < pivot]\n",
    "        middle = [x for x in arr if x == pivot]\n",
    "        right = [x for x in arr if x > pivot]\n",
    "        return quick_sort(left) + middle + quick_sort(right)\n"
   ]
  },
  {
   "cell_type": "code",
   "execution_count": 66,
   "id": "ef280e8f",
   "metadata": {},
   "outputs": [
    {
     "name": "stdout",
     "output_type": "stream",
     "text": [
      "5.82 µs ± 133 ns per loop (mean ± std. dev. of 7 runs, 100,000 loops each)\n"
     ]
    }
   ],
   "source": [
    "%%timeit\n",
    "quick_sort(not_sorted)"
   ]
  },
  {
   "attachments": {},
   "cell_type": "markdown",
   "id": "61488618",
   "metadata": {},
   "source": [
    "<hr>\n",
    "<h5 style=\"text-align:center; color:red ; font-size: 20px;\">  🟢 Heap Sort 🟢 </h5>\n",
    "<p style=\"text-align:right; font-size: 20px;\">\n",
    "الگوریتم هیپ به این صورت عمل می‌کند که ابتدا یک هیپ ساخته شده و سپس با حذف ریشه و برگرداندن آن به مکان مناسب خود در هیپ عناصر را به ترتیب مرتب می‌کند\n",
    "</p>\n",
    "\n"
   ]
  },
  {
   "cell_type": "markdown",
   "id": "2faa3442",
   "metadata": {},
   "source": [
    "<div dir=\"rtl\">\n",
    "    <h2>مزایای الگوریتم </h2>\n",
    "    <ul>\n",
    "        <li>کارایی بالا: الگوریتم هیپ سورت، به ویژه در مواردی که با داده‌های حجیم سروکار داریم، از کارایی بالایی برخوردار است و می‌تواند در این شرایط بسیار مؤثر عمل کند.</li>\n",
    "        <li>استفاده از حافظه ثابت: هیپ سورت می‌تواند بدون نیاز به حافظه اضافی کار کند، که این ویژگی به عنوان یک مزیت محسوب می‌شود.</li>\n",
    "        <li>پردازش موازی: این الگوریتم قابلیت استفاده مؤثر در پردازش‌های موازی را دارد، که در بسیاری از موارد می‌تواند به بهبود عملکرد کمک کند.</li>\n",
    "    </ul>\n",
    "    <h2>معایب الگوریتم  </h2>\n",
    "    <ul>\n",
    "        <li>کارایی کمتر در حالات خاص: در مواردی که داده‌ها تقریباً مرتب هستند، کارایی هیپ سورت ممکن است به طور قابل توجهی کمتر باشد.</li>\n",
    "        <li>پیچیدگی محاسباتی در حالات خاص: در شرایطی که هیپ متوازن نیست، پیچیدگی محاسباتی هیپ سورت افزایش یافته و ممکن است کارایی آن کاهش یابد.</li>\n",
    "        <li>نیاز به فضای ثابت: هیپ سورت به فضای اضافی به اندازه حجم داده‌های ورودی برای ایجاد و نگهداری هیپ نیاز دارد، که در برخی موارد می‌تواند محدودیت‌هایی ایجاد کند.</li>\n",
    "        <li>مرتب‌سازی مستقر با شرایط: در حالی که هیپ سورت معمولاً به عنوان یک الگوریتم مرتب‌سازی مستقر شناخته می‌شود، اما این ویژگی در صورت استفاده از هیپ نامتوازن وجود ندارد، چرا که در این حالت نیاز به حافظه اضافی برای ساخت و نگهداری هیپ پیش می‌آید.</li>\n",
    "    </ul>\n",
    "</div>\n"
   ]
  },
  {
   "attachments": {},
   "cell_type": "markdown",
   "id": "797e1500",
   "metadata": {},
   "source": [
    "![heap](images/heap1.png)"
   ]
  },
  {
   "attachments": {},
   "cell_type": "markdown",
   "id": "d4e77050",
   "metadata": {},
   "source": [
    "![heap](images/heap2.png)"
   ]
  },
  {
   "attachments": {},
   "cell_type": "markdown",
   "id": "778269dc",
   "metadata": {},
   "source": [
    "![heap](images/heap3.png)"
   ]
  },
  {
   "attachments": {},
   "cell_type": "markdown",
   "id": "d58c44ea",
   "metadata": {},
   "source": [
    "![heap](images/heap4.png)"
   ]
  },
  {
   "attachments": {},
   "cell_type": "markdown",
   "id": "0df41879",
   "metadata": {},
   "source": [
    "![heap](images/heap5.png)"
   ]
  },
  {
   "attachments": {},
   "cell_type": "markdown",
   "id": "675713e1",
   "metadata": {},
   "source": [
    "![heap](images/heap7.png)"
   ]
  },
  {
   "cell_type": "code",
   "execution_count": 68,
   "id": "a307fa6f",
   "metadata": {},
   "outputs": [
    {
     "name": "stdout",
     "output_type": "stream",
     "text": [
      "1.14 µs ± 10.5 ns per loop (mean ± std. dev. of 7 runs, 1,000,000 loops each)\n"
     ]
    }
   ],
   "source": [
    "%%timeit\n",
    "not_sorted = np.array([6,6,2,4,5,1,0,10,9,14,25])\n",
    "np.sort(not_sorted , kind='heapsort')"
   ]
  },
  {
   "cell_type": "code",
   "execution_count": 69,
   "id": "d4dd6b29",
   "metadata": {},
   "outputs": [],
   "source": [
    "def heapify(arr, n, i):\n",
    "    \"\"\"Helper function for heap sort to maintain heap property.\"\"\"\n",
    "    largest = i\n",
    "    left = 2 * i + 1\n",
    "    right = 2 * i + 2\n",
    "\n",
    "    if left < n and arr[i] < arr[left]:\n",
    "        largest = left\n",
    "\n",
    "    if right < n and arr[largest] < arr[right]:\n",
    "        largest = right\n",
    "\n",
    "    if largest != i:\n",
    "        arr[i], arr[largest] = arr[largest], arr[i]\n",
    "        heapify(arr, n, largest)\n",
    "\n",
    "def heap_sort(arr):\n",
    "    \"\"\"Heap sort algorithm implementation.\"\"\"\n",
    "    n = len(arr)\n",
    "\n",
    "    for i in range(n // 2 - 1, -1, -1):\n",
    "        heapify(arr, n, i)\n",
    "\n",
    "    for i in range(n-1, 0, -1):\n",
    "        arr[i], arr[0] = arr[0], arr[i]\n",
    "        heapify(arr, i, 0)\n",
    "    return arr\n"
   ]
  },
  {
   "cell_type": "code",
   "execution_count": 70,
   "id": "2d3955c6",
   "metadata": {},
   "outputs": [
    {
     "name": "stdout",
     "output_type": "stream",
     "text": [
      "12.9 µs ± 482 ns per loop (mean ± std. dev. of 7 runs, 100,000 loops each)\n"
     ]
    }
   ],
   "source": [
    "%%timeit\n",
    "heap_sort(not_sorted)"
   ]
  },
  {
   "cell_type": "code",
   "execution_count": 74,
   "id": "f00e6a28",
   "metadata": {},
   "outputs": [
    {
     "data": {
      "text/plain": [
       "array([ 4, 56, 14, 50, 75, 21, 16, 97, 37, 78])"
      ]
     },
     "execution_count": 74,
     "metadata": {},
     "output_type": "execute_result"
    }
   ],
   "source": [
    "test_array = np.random.randint(0, 100, 10)\n",
    "test_array"
   ]
  },
  {
   "cell_type": "code",
   "execution_count": 75,
   "id": "888566bc",
   "metadata": {},
   "outputs": [
    {
     "data": {
      "text/plain": [
       "array([ 4, 14, 16, 21, 37, 50, 56, 75, 78, 97])"
      ]
     },
     "execution_count": 75,
     "metadata": {},
     "output_type": "execute_result"
    }
   ],
   "source": [
    "heap_sort(test_array.copy())"
   ]
  },
  {
   "attachments": {},
   "cell_type": "markdown",
   "id": "10077c4f",
   "metadata": {},
   "source": [
    "<hr>\n",
    "<h5 style=\"text-align:center; color:red ; font-size: 20px;\">  🟢 Merge Sort 🟢 </h5>\n",
    "\n",
    "\n",
    "\n",
    "\n"
   ]
  },
  {
   "cell_type": "markdown",
   "id": "4fadf46d",
   "metadata": {},
   "source": [
    "<div dir=\"rtl\">\n",
    "    <h2>مزایای الگوریتم مرتب‌سازی ادغامی (Merge Sort)</h2>\n",
    "    <ul>\n",
    "        <li>عملکرد مؤثر: الگوریتم مرتب‌سازی ادغامی در موقعیت‌های متنوع، اعم از مرتب‌سازی داده‌های حجیم و داده‌های نیمه‌مرتب، عملکرد مؤثری دارد.</li>\n",
    "        <li>پایداری: این الگوریتم به عنوان یک روش مرتب‌سازی پایدار شناخته می‌شود، به این معنی که ترتیب نسبی دو عنصر یکسان در داده‌های ورودی پس از مرتب‌سازی حفظ می‌شود.</li>\n",
    "        <li>بهره‌وری مناسب: در برخی موارد، این الگوریتم می‌تواند بهره‌وری مناسبی داشته باشد و از لحاظ زمان اجرا از بسیاری دیگر از الگوریتم‌ها بهتر عمل کند.</li>\n",
    "    </ul>\n",
    "    <h2>معایب الگوریتم مرتب‌سازی ادغامی (Merge Sort)</h2>\n",
    "    <ul>\n",
    "        <li>نیاز به حافظه اضافی: این الگوریتم برای انجام مرتب‌سازی نیاز به حافظه اضافی دارد که می‌تواند در مواردی که با داده‌های بسیار بزرگ سروکار داریم، محدودیت‌هایی ایجاد کند.</li>\n",
    "        <li>پیچیدگی محاسباتی: الگوریتم مرتب‌سازی ادغامی معمولاً به صورت از بالا به پایین عمل می‌کند که می‌تواند در برخی حالات به پیچیدگی محاسباتی بیشتر منجر شود.</li>\n",
    "        <li>نیاز به کپی کردن داده‌ها: در هر مرحله ادغام، نیاز است داده‌ها کپی شوند که این عملیات ممکن است زمان‌بر باشد، به‌ویژه برای داده‌های با حجم بالا.</li>\n",
    "        <li>بی‌توجهی به قسمت‌های مرتب شده: الگوریتم مرتب‌سازی ادغامی ممکن است به این نکته توجه نکند که بخش‌هایی از داده‌ها ممکن است از قبل مرتب شده باشند و در نتیجه، به صورت ناخواسته هزینه‌های زمانی را افزایش دهد.</li>\n",
    "    </ul>\n",
    "</div>\n"
   ]
  },
  {
   "attachments": {},
   "cell_type": "markdown",
   "id": "383a4481",
   "metadata": {},
   "source": [
    "![merge](images/MergeSort.png)"
   ]
  },
  {
   "cell_type": "code",
   "execution_count": 76,
   "id": "6da9dec0",
   "metadata": {},
   "outputs": [
    {
     "name": "stdout",
     "output_type": "stream",
     "text": [
      "1.08 µs ± 1.77 ns per loop (mean ± std. dev. of 7 runs, 1,000,000 loops each)\n"
     ]
    }
   ],
   "source": [
    "%%timeit\n",
    "not_sorted = np.array([6,6,2,4,5,1,0,10,9,14,25])\n",
    "np.sort(not_sorted , kind='mergesort')"
   ]
  },
  {
   "cell_type": "code",
   "execution_count": 80,
   "id": "7fbfb2dd",
   "metadata": {},
   "outputs": [
    {
     "name": "stdout",
     "output_type": "stream",
     "text": [
      "Given array is\n",
      "12 11 13 5 6 7 \n",
      "\n",
      "Sorted array is \n",
      "5 6 7 11 12 13 \n"
     ]
    }
   ],
   "source": [
    "def mergeSort(arr):\n",
    "\tif len(arr) > 1:\n",
    "\n",
    "\t\t# Finding the mid of the array\n",
    "\t\tmid = len(arr)//2\n",
    "\n",
    "\t\t# Dividing the array elements\n",
    "\t\tL = arr[:mid]\n",
    "\n",
    "\t\t# Into 2 halves\n",
    "\t\tR = arr[mid:]\n",
    "\n",
    "\t\t# Sorting the first half\n",
    "\t\tmergeSort(L)\n",
    "\n",
    "\t\t# Sorting the second half\n",
    "\t\tmergeSort(R)\n",
    "\n",
    "\t\ti = j = k = 0\n",
    "\n",
    "\t\t# Copy data to temp arrays L[] and R[]\n",
    "\t\twhile i < len(L) and j < len(R):\n",
    "\t\t\tif L[i] <= R[j]:\n",
    "\t\t\t\tarr[k] = L[i]\n",
    "\t\t\t\ti += 1\n",
    "\t\t\telse:\n",
    "\t\t\t\tarr[k] = R[j]\n",
    "\t\t\t\tj += 1\n",
    "\t\t\tk += 1\n",
    "\n",
    "\t\t# Checking if any element was left\n",
    "\t\twhile i < len(L):\n",
    "\t\t\tarr[k] = L[i]\n",
    "\t\t\ti += 1\n",
    "\t\t\tk += 1\n",
    "\n",
    "\t\twhile j < len(R):\n",
    "\t\t\tarr[k] = R[j]\n",
    "\t\t\tj += 1\n",
    "\t\t\tk += 1\n",
    "\n",
    "\n",
    "# Code to print the list\n",
    "def printList(arr):\n",
    "\tfor i in range(len(arr)):\n",
    "\t\tprint(arr[i], end=\" \")\n",
    "\tprint()\n",
    "\n",
    "\n",
    "# Driver Code\n",
    "if __name__ == '__main__':\n",
    "\tarr = [12, 11, 13, 5, 6, 7]\n",
    "\tprint(\"Given array is\")\n",
    "\tprintList(arr)\n",
    "\tmergeSort(arr)\n",
    "\tprint(\"\\nSorted array is \")\n",
    "\tprintList(arr)\n"
   ]
  },
  {
   "cell_type": "code",
   "execution_count": 82,
   "id": "61ef771b",
   "metadata": {},
   "outputs": [
    {
     "name": "stdout",
     "output_type": "stream",
     "text": [
      "1.76 µs ± 11 ns per loop (mean ± std. dev. of 7 runs, 100,000 loops each)\n"
     ]
    }
   ],
   "source": [
    "%%timeit\n",
    "mergeSort(arr)\n"
   ]
  },
  {
   "cell_type": "code",
   "execution_count": null,
   "id": "79cd47cb",
   "metadata": {},
   "outputs": [],
   "source": [
    "#numpy\n",
    "\n",
    "#quicksort ---> 1.08\n",
    "#mergesort ---> 1.08\n",
    "#heapsort ----> 1.14\n",
    "\n",
    "#def \n"
   ]
  }
 ],
 "metadata": {
  "kernelspec": {
   "display_name": "Python 3 (ipykernel)",
   "language": "python",
   "name": "python3"
  },
  "language_info": {
   "codemirror_mode": {
    "name": "ipython",
    "version": 3
   },
   "file_extension": ".py",
   "mimetype": "text/x-python",
   "name": "python",
   "nbconvert_exporter": "python",
   "pygments_lexer": "ipython3",
   "version": "3.11.5"
  }
 },
 "nbformat": 4,
 "nbformat_minor": 5
}
